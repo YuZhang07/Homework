{
 "cells": [
  {
   "cell_type": "code",
   "execution_count": 2,
   "metadata": {},
   "outputs": [
    {
     "name": "stdout",
     "output_type": "stream",
     "text": [
      "(20,)\n",
      "[88 79 72 75 93 68 46 97 62 97 93 66 51 58 68 61 72 83 46 76]\n",
      "As: 4\n",
      "Bs: 2\n",
      "Cs: 5\n",
      "Ds: 5\n",
      "Fs: 4\n"
     ]
    }
   ],
   "source": [
    "# HW2\n",
    "# Due: 10/22/2020 (Thursday) 12:00PM\n",
    "# Email to: jzhang@eastwest.edu\n",
    "\n",
    "\n",
    "# Problem 1:\n",
    "\n",
    "# A list numbers of rang 0 to 100 to represent 20 student final scores\n",
    "# 1) Use numpy to show the average score, highest score and lowest score\n",
    "# 2) Use numpy's boolean index to count how many A (100 - 90), B(89-80), C(79-70), D(69-60), F(<60)\n",
    "#   (Hint: Bs = data[(data>=80) & (data <90) ])\n",
    "\n",
    "\n",
    "import numpy as np\n",
    "\n",
    "# 20 students final scores\n",
    "#data = np.random.randn(100)  \n",
    "\n",
    "data = np.random.randint(0, 100, 20)  # start, end, number\n",
    "\n",
    "scores = [88 ,79, 72, 75, 93, 68, 46, 97, 62, 97, 93, 66, 51, 58,  68 ,  61, \n",
    "        72 , 83, 46 ,76]\n"
   ]
  },
  {
   "cell_type": "code",
   "execution_count": 67,
   "metadata": {},
   "outputs": [
    {
     "name": "stdout",
     "output_type": "stream",
     "text": [
      "[100. 100. 100. 100. 100. 100.]\n",
      "100.0\n",
      "(5, 6)\n",
      "[79.5 76.5 73.9 74.2 64.5]\n",
      "[[ 5.8  9.6  6.5 15.7 15.2 26.7]\n",
      " [ 5.8  9.6  6.5 15.7 15.2 23.7]\n",
      " [ 5.8  8.6  9.5 14.5 17.2 18.3]\n",
      " [ 6.8  5.6  4.5 13.5 19.2 24.6]\n",
      " [ 6.8  9.6  6.5 15.7 11.2 14.7]]\n",
      "[79.5 76.5 73.9 74.2 64.5]\n",
      "[ 6.2   8.6   6.7  15.02 15.6  21.6 ]\n"
     ]
    }
   ],
   "source": [
    "\n",
    "# Problem 2:\n",
    "# Six homework scores from five student , show the each student total scores by the weights and their grades\n",
    "\n",
    "WEIGHTS = np.array( [0.1, 0.1,0.1,0.2, 0.2, 0.3 ])\n",
    "\n",
    "# test perfect score\n",
    "full_score = np.ones(6)*100\n",
    "#full_score = 100\n",
    "print(full_score)\n",
    "\n",
    "\n",
    "#student homework\n",
    "# Read six homework, from 5 studennts\n",
    "scores = np.array([[58, 96, 65, 78.5, 76, 89],\n",
    "                 [58, 96, 65, 78.5, 76, 79],\n",
    "                 [58, 86, 95, 72.5, 86, 61],\n",
    "                 [68, 56, 45, 67.5, 96, 82],\n",
    "                 [68, 96, 65, 78.5, 56, 49]] )\n",
    "\n",
    "print(scores.shape)\n",
    "\n",
    "\n"
   ]
  },
  {
   "cell_type": "code",
   "execution_count": 3,
   "metadata": {
    "scrolled": true
   },
   "outputs": [
    {
     "name": "stdout",
     "output_type": "stream",
     "text": [
      "[0 0 0 0 0]\n",
      "[ 5  2  5  5 13]\n",
      "A 5\n",
      "B 2\n",
      "C 5\n",
      "D 5\n",
      "F 13\n"
     ]
    }
   ],
   "source": [
    "# Problem 3 (Option)\n",
    "\n",
    "\n",
    "# Generate 30 students final scores\n",
    "# Use bar chart to present the distribution of grades ( See example Chapter 7, use plt.bar )\n",
    "\n",
    "\n",
    "import numpy as np\n",
    "data = np.random.randint(0, 100, 30)  # start, end, number\n",
    "\n",
    "data = np.array(data)\n",
    "\n",
    "labels = ['A', 'B','C','D','F']\n",
    "count_grade = np.zeros(5)\n",
    "count_grade = count_grade.astype(np.int32)\n"
   ]
  },
  {
   "cell_type": "code",
   "execution_count": 5,
   "metadata": {},
   "outputs": [
    {
     "data": {
      "image/png": "[encoded data removed]",
      "text/plain": [
       "<Figure size 432x288 with 1 Axes>"
      ]
     },
     "metadata": {
      "needs_background": "light"
     },
     "output_type": "display_data"
    }
   ],
   "source": [
    "# page 392\n",
    "import matplotlib.pyplot as plt\n",
    "\n",
    "def drawBar(count, labels):\n",
    "    left_edges = [0, 10, 20, 30, 40 ]\n",
    "    \n",
    "    # Create a list\n",
    "    bar_width = 5\n",
    "    \n",
    "    plt.bar(left_edges , count, bar_width, color='Green' )   # 'Red'\n",
    "    \n",
    "    plt.xticks([5, 15, 25, 35, 45],labels)\n",
    "    plt.xlabel('Grade')\n",
    "    plt.title('Student Final Grade')\n",
    "    \n",
    "    plt.show()\n",
    "\n",
    "drawBar(count_grade, labels)"
   ]
  },
  {
   "cell_type": "code",
   "execution_count": 23,
   "metadata": {},
   "outputs": [
    {
     "name": "stdout",
     "output_type": "stream",
     "text": [
      "[62 58 54 19 51 75 51 39 29 97 67 64  8 79  2 39 97 34 60 46 12  6 39  2\n",
      " 80 62 62 97 75 42 29 51 16 35 61 83 43 82 64 50 22 81 12 24 45 11 29 94\n",
      " 30  7]\n",
      "['-', '-', '-', '-', '-', '-', '-', '-', '-', '-']\n",
      "['0s', '10s', '20s', '30s', '40s', '50s', '60s', '70s', '80s', '90s']\n",
      "[0. 0. 0. 0. 0. 0. 0. 0. 0. 0.]\n",
      "[31. 45. 40. 35. 29. 25. 19. 11.  8.  4.]\n"
     ]
    }
   ],
   "source": [
    "# Generate 100 interger\n",
    "# Use bar chart to present the distribution of from 0-9, 10-19, 20-29, ...,90-99\n",
    "\n",
    "import numpy as np\n",
    "data = np.random.randint(1, 101, 50)  # start, end, number\n",
    "print (data)\n",
    "data = np.array(data)\n",
    "\n",
    "labels=['-']*10\n",
    "print(labels)\n",
    "\n",
    "for i in range(10):\n",
    "    labels[i] = str(i*10) + 's'\n",
    "print(labels)\n",
    "\n",
    "count= np.zeros(10)\n",
    "print (count)\n",
    "\n",
    "# from A to D grade\n",
    "catoff = 10\n",
    "for i in range(10):\n",
    "    condition = (data>= i*10) & ( data < cutoff *(i+1)) \n",
    "    count[i]= len(data[condition])\n",
    " \n",
    "\n",
    "# \n",
    "print (count)\n",
    "\n"
   ]
  },
  {
   "cell_type": "code",
   "execution_count": 24,
   "metadata": {},
   "outputs": [
    {
     "name": "stdout",
     "output_type": "stream",
     "text": [
      "range(0, 100, 10)\n",
      "range(0, 110, 10)\n"
     ]
    },
    {
     "data": {
      "image/png": "[encoded data removed]",
      "text/plain": [
       "<Figure size 432x288 with 1 Axes>"
      ]
     },
     "metadata": {
      "needs_background": "light"
     },
     "output_type": "display_data"
    }
   ],
   "source": [
    "import matplotlib.pyplot as plt\n",
    "\n",
    "# Create a list\n",
    "\n",
    "left_edges = range(0,100,10)\n",
    "xMarks=range(0,110,10)\n",
    "print(left_edges)\n",
    "print(xMarks)\n",
    "left_edges\n",
    "bar_width = 5\n",
    "    \n",
    "plt.bar(left_edges , count, bar_width, color='Green' )   # 'Red'\n",
    "    \n",
    "plt.xticks(xMarks,labels)\n",
    "plt.xlabel('Data Distribution')\n",
    "plt.title('Data Distribution')\n",
    "    \n",
    "plt.show()"
   ]
  },
  {
   "cell_type": "code",
   "execution_count": 29,
   "metadata": {},
   "outputs": [
    {
     "data": {
      "image/png": "[encoded data removed]",
      "text/plain": [
       "<Figure size 432x288 with 1 Axes>"
      ]
     },
     "metadata": {
      "needs_background": "light"
     },
     "output_type": "display_data"
    }
   ],
   "source": [
    "# page 392\n",
    "import matplotlib.pyplot as plt\n",
    "\n",
    "def main():\n",
    "    left_edges = [0, 10, 20, 30, 40 ]\n",
    "    \n",
    "    # Create a list\n",
    "    heights = [100, 200, 300, 400, 500]\n",
    "    bar_width = 5\n",
    "    \n",
    "    plt.bar(left_edges , heights, bar_width, color='Green' )   # 'Red'\n",
    "    \n",
    "    plt.xticks([5, 15, 25, 35, 45], ['2016', '2017','2018','2019','2020'])\n",
    "    plt.yticks([100, 200, 300, 400, 500], ['$0m', '$1m','$2m','$3m','$4m','$5m'])\n",
    "    \n",
    "    plt.show()\n",
    "\n",
    "main()"
   ]
  },
  {
   "cell_type": "code",
   "execution_count": null,
   "metadata": {},
   "outputs": [],
   "source": [
    "#help(np.random.randn)\n",
    "#numpy.random.random(size=None) , Return random floats in the half-open interval [0.0, 1.0).\n",
    "# https://docs.scipy.org/doc/numpy/reference/generated/numpy.random.random.html"
   ]
  }
 ],
 "metadata": {
  "kernelspec": {
   "display_name": "Python 3",
   "language": "python",
   "name": "python3"
  },
  "language_info": {
   "codemirror_mode": {
    "name": "ipython",
    "version": 3
   },
   "file_extension": ".py",
   "mimetype": "text/x-python",
   "name": "python",
   "nbconvert_exporter": "python",
   "pygments_lexer": "ipython3",
   "version": "3.7.3"
  }
 },
 "nbformat": 4,
 "nbformat_minor": 2
}
